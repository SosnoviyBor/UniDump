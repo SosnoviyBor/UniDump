{
  "cells": [
    {
      "cell_type": "markdown",
      "metadata": {
        "id": "mxImKw1UhQl7"
      },
      "source": [
        "<a href=\"https://colab.research.google.com/github/YKochura/ai-lab/blob/main/linear-regression/linear_regression.ipynb\" target=\"_parent\"><img src=\"https://colab.research.google.com/assets/colab-badge.svg\" alt=\"Open In Colab\"/></a>"
      ]
    },
    {
      "cell_type": "markdown",
      "metadata": {
        "id": "q2XBnP5_Z0pD"
      },
      "source": [
        "**Лінійна регресія** &mdash; статистичний регресійний метод, який застосовують для моделювання взаємозв'язку між скалярною залежною змінною $\\hat{y}$ та однією або кількома незалежними змінними $\\boldsymbol X$.\n",
        "\n",
        "Наприклад, ми можемо за допомогою лінійної регресії передбачати значення неперервної залежної змінної: температуру повітря, ціну акацій, тощо, використовуючи додаткову інформацію, яка характеризує задачу і представлена  в незалежній змінній $\\boldsymbol X$. Ця додаткова інформація представляє собою набір вхідних ознак за якими буде здійснюватись моделювання.\n"
      ]
    },
    {
      "cell_type": "markdown",
      "metadata": {
        "id": "b_Lh31rnBI5b",
        "tags": [
          "graph"
        ]
      },
      "source": [
        "# Модель лінійної регресії\n",
        "\n",
        "![](https://docs.google.com/uc?export=download&id=1FAY4ZeGCJ1n14d14LtivoYDsz-LhgUpH)\n",
        "\n",
        "Метод лінійної регресії полягає у знаходженні лінійної комбінації вхідних ознак (зважена сума) з урахуванням зміщення.\n",
        "\n",
        "$$\\hat y = z = \\sum_{i=1}^m w_i x_i  + b$$\n",
        "\n",
        "\n"
      ]
    },
    {
      "cell_type": "markdown",
      "metadata": {
        "id": "sfQwoDlx-YHi"
      },
      "source": [
        "Для вирішення задачі\n",
        "\n",
        "**Дано:**\n",
        "\n",
        "- Навчальний набір: $\\{(\\boldsymbol{X}^{(1)}, y^{(1)}), (\\boldsymbol{X}^{(2)}, y^{(2)}),..., (\\boldsymbol{X}^{(n)}, y^{(n)})\\}$\n",
        "\n",
        "  - де $\\boldsymbol{X}^{(i)}$ &mdash;  $i$-й навчальний приклад. Є $m$-вимірним вектором-стовпцем $\\boldsymbol{X}^{(i)} = (x^{(i)}_1, x^{(i)}_2, ..., x^{(i)}_m)$\n",
        "  - $n$ &mdash; загальна кількість навчальних прикладів\n",
        "  - $y^{(i)}$ &mdash; дійсне цільове значення $i$-го навчального прикладу , $y^{(i)} \\in \\mathbb{R}$\n",
        "\n",
        "Модель лінійної регресії:\n",
        "\n",
        "- має вектор-рядок дійсних значень ваг $\\boldsymbol{W} = \\begin{bmatrix}\n",
        "w_1 & w_2 & \\cdots & w_m\n",
        "\\end{bmatrix}$\n",
        "- має дійсне значення зміщення $b$\n"
      ]
    },
    {
      "cell_type": "markdown",
      "metadata": {
        "id": "5wtEFeieFmwI",
        "jp-MarkdownHeadingCollapsed": true
      },
      "source": [
        "# Навчання\n",
        "\n",
        "Ми можемо навчити модель, використовуючи градієнтний спуск. Фактично, **градієнтний спуск** або будь-який інший алгоритм оптимізації дозволяє знайти глобальний мінімум цільової функції, якщо підбрано оптимальну швидкість навчання та виконано достатню кількість ітерацій навчання.\n",
        "\n",
        "Навчання лінійної регресії має різні етапи. На початку (крок 0) ініціалізуються параметри моделі. Інші кроки повторюються протягом певної кількості епох (навчальних ітерацій).\n",
        "\n",
        "**Крок 0:** Ініціалізувати ваги та зсув (наприклад, випадковими значеннями з нормального розподілу)\n",
        "\n",
        "**Крок 1:** Обчислити лінійну комбінацію вхідних ознак та ваг і додати зсув.  Це можна зробити за один крок для всіх навчальних прикладів, використовуючи [векторизацію (vectorization)](https://www.geeksforgeeks.org/vectorization-in-python/) та  [трансляцію (broadcasting)](https://www.geeksforgeeks.org/python-broadcasting-with-numpy-arrays/)\n",
        "\n",
        "$$\\hat y =  z = W \\cdot X + b$$\n",
        "\n",
        "де $\\cdot$ скалярний добуток (поелементний добуток), $W$ &mdash;  вектор-рядок ваг з формою $(1, m)$, $X$ &mdash; матриця форми $(m, n)$, $\\hat y$ &mdash; прогноз моделі.\n",
        "\n",
        "\n",
        "**Крок 2:** Обчислити усереднену втрату на всьому навчальному наборі даних. Функцію, яка визначає усереднені втрати на всьому навчальному наборі даних, часто називають цільовою функцією або імпіричним ризиком. Основна задача оптимізаційного алгоритму &mdash;  мінімізувати у процесі навчання цільову функцію на стільки, на скільки це можливо, не втрачаючи при цьому здатності моделі узагальнювати на нових даних. Для лінійної регресії будемо розраховувати середнє квадратичне відхилення:\n",
        "\n",
        "$$\\mathcal{J}(\\hat y,y)  = \\frac{1}{n} \\sum_{i=1}^n \\Big(\\hat{y}^{(i)} -  y^{(i)} \\Big)^2$$\n",
        "\n",
        "**Крок 3:** Розрахувати градієнти цільвої функції відносно ваг та зсуву:\n",
        "\n",
        "$$\\boxed{\\begin{aligned}\n",
        "\\frac{\\partial \\mathcal{J}(\\hat y, y)}{\\partial \\hat y} &= \\frac{2}{n} \\sum_{i=1}^n \\Big(\\hat{y}^{(i)} -  y^{(i)} \\Big)   \\\\[12pt]\n",
        "\\frac{\\partial \\mathcal{J}(\\hat y, y)}{\\partial W } = \\frac{\\partial \\mathcal{J}(\\hat y, y)}{\\partial \\hat y} \\frac{\\partial \\hat y}{\\partial W }  &= \\frac{2}{n} \\sum_{i=1}^n \\Big(\\hat{y}^{(i)} -  y^{(i)} \\Big) x^{(i)}   \\\\[12pt]\n",
        "\\frac{\\partial \\mathcal{J}(\\hat y, y)}{\\partial b} =  \\frac{\\partial \\mathcal{J}(\\hat y, y)}{\\partial \\hat y} \\frac{\\partial \\hat y}{\\partial b }&=  \\frac{2}{n} \\sum_{i=1}^n \\Big(\\hat{y}^{(i)} -  y^{(i)} \\Big)\n",
        "\\end{aligned}}$$\n",
        "\n",
        "**Крок 4:** Оновити ваги та зсув моделі:\n",
        "\n",
        "$$\\boxed{\\begin{aligned}\n",
        "W &= W - \\alpha \\frac{\\partial \\mathcal{J}(\\hat y, y)}{\\partial W} \\\\[12pt]\n",
        "b &= b - \\alpha \\frac{\\partial \\mathcal{J}(\\hat y, y)}{\\partial b}\n",
        "\\end{aligned}}$$\n",
        "\n",
        "де $\\alpha$ &mdash; швидкість навчання (крок навчання)."
      ]
    },
    {
      "cell_type": "markdown",
      "metadata": {
        "id": "WU31wxOL_iBb"
      },
      "source": [
        "# Імпортупвання бібліотек"
      ]
    },
    {
      "cell_type": "code",
      "execution_count": 48,
      "metadata": {
        "id": "19xicNjUYyKR",
        "trusted": true
      },
      "outputs": [],
      "source": [
        "import numpy as np\n",
        "import matplotlib.pyplot as plt\n",
        "from sklearn.model_selection import train_test_split\n",
        "\n",
        "np.random.seed(123)"
      ]
    },
    {
      "cell_type": "markdown",
      "metadata": {
        "id": "bRVwKii8_98N"
      },
      "source": [
        "## Датасет"
      ]
    },
    {
      "cell_type": "code",
      "execution_count": 49,
      "metadata": {
        "colab": {
          "base_uri": "https://localhost:8080/",
          "height": 564
        },
        "id": "m1UzCusBypep",
        "outputId": "259bb610-0e53-4892-a450-71c13e6beb81",
        "trusted": true
      },
      "outputs": [
        {
          "data": {
            "image/png": "[encoded data removed]",
            "text/plain": [
              "<Figure size 800x600 with 1 Axes>"
            ]
          },
          "metadata": {},
          "output_type": "display_data"
        }
      ],
      "source": [
        "# We will use a simple training set\n",
        "X = 2 * np.random.rand(50, 1)\n",
        "y = 3 * X + 4 + np.random.randn(50, 1)\n",
        "\n",
        "fig = plt.figure(figsize=(8,6))\n",
        "plt.scatter(X, y)\n",
        "plt.title(\"Набір даних\")\n",
        "plt.xlabel(\"$X$\")\n",
        "plt.ylabel(\"$y$\")\n",
        "plt.show()"
      ]
    },
    {
      "cell_type": "markdown",
      "metadata": {
        "id": "Df9GYUGXBDH9"
      },
      "source": [
        "## Поділ набору даних"
      ]
    },
    {
      "cell_type": "code",
      "execution_count": 50,
      "metadata": {
        "colab": {
          "base_uri": "https://localhost:8080/"
        },
        "id": "y_eclhoHTp1F",
        "outputId": "779a20fd-dcaf-4fe4-9a5d-8eae29314d96",
        "trusted": true
      },
      "outputs": [
        {
          "name": "stdout",
          "output_type": "stream",
          "text": [
            "Shape X_train: (37, 1)\n",
            "Shape y_train: (37, 1)\n",
            "Shape X_test: (13, 1)\n",
            "Shape y_test: (13, 1)\n"
          ]
        }
      ],
      "source": [
        "# Split the data into a training and test set\n",
        "X_train, X_test, y_train, y_test = train_test_split(X, y)\n",
        "\n",
        "print(f'Shape X_train: {X_train.shape}')\n",
        "print(f'Shape y_train: {y_train.shape}')\n",
        "print(f'Shape X_test: {X_test.shape}')\n",
        "print(f'Shape y_test: {y_test.shape}')"
      ]
    },
    {
      "cell_type": "code",
      "execution_count": 51,
      "metadata": {
        "colab": {
          "base_uri": "https://localhost:8080/"
        },
        "id": "afdB9_DXqXnv",
        "outputId": "df5047df-88e9-47e4-eadb-7e9416ce389b",
        "trusted": true
      },
      "outputs": [
        {
          "data": {
            "text/plain": [
              "(37,)"
            ]
          },
          "execution_count": 51,
          "metadata": {},
          "output_type": "execute_result"
        }
      ],
      "source": [
        "X_train[:,0].shape"
      ]
    },
    {
      "cell_type": "code",
      "execution_count": 52,
      "metadata": {
        "colab": {
          "base_uri": "https://localhost:8080/",
          "height": 564
        },
        "id": "RhLuGhJxHwdc",
        "outputId": "fb0ca123-18b4-4876-c014-610a2f4fc212",
        "trusted": true
      },
      "outputs": [
        {
          "data": {
            "image/png": "[encoded data removed]",
            "text/plain": [
              "<Figure size 800x600 with 1 Axes>"
            ]
          },
          "metadata": {},
          "output_type": "display_data"
        }
      ],
      "source": [
        "fig = plt.figure(figsize=(8,6))\n",
        "plt.scatter(X_train, y_train)\n",
        "plt.title(\"Навчальний набір даних\")\n",
        "plt.xlabel(\"$X$\")\n",
        "plt.ylabel(\"$y$\")\n",
        "plt.show()"
      ]
    },
    {
      "cell_type": "code",
      "execution_count": 53,
      "metadata": {
        "colab": {
          "base_uri": "https://localhost:8080/",
          "height": 564
        },
        "id": "vrYpWAibdMVC",
        "outputId": "e27f3167-26ca-4fba-e2dd-44b7835d9757",
        "trusted": true
      },
      "outputs": [
        {
          "data": {
            "image/png": "[encoded data removed]",
            "text/plain": [
              "<Figure size 800x600 with 1 Axes>"
            ]
          },
          "metadata": {},
          "output_type": "display_data"
        }
      ],
      "source": [
        "coef = np.polyfit(X_train[:,0], y_train[:,0], 1)\n",
        "poly1d_fn = np.poly1d(coef)  # to create a linear function with coefficients\n",
        "up = poly1d_fn(X_train[:,0]) - y_train[:,0] > 0\n",
        "low= poly1d_fn(X_train[:,0]) - y_train[:,0] < 0\n",
        "\n",
        "fig = plt.figure(figsize=(8,6))\n",
        "plt.errorbar(X_train[:,0], poly1d_fn(X_train[:,0]), yerr=abs(poly1d_fn(X_train[:,0]) - y_train[:,0]),  lolims=low, uplims = up, fmt='.k')\n",
        "plt.plot(X_train[:,0], y_train[:,0], 'o', X_train[:,0], poly1d_fn(X_train[:,0]), '-r')\n",
        "# plt.scatter(X_train, y_train)\n",
        "plt.title(\"Навчальний набір даних\")\n",
        "plt.xlabel(\"$X$\")\n",
        "plt.ylabel(\"$y$\")\n",
        "plt.show()"
      ]
    },
    {
      "cell_type": "code",
      "execution_count": 54,
      "metadata": {
        "colab": {
          "base_uri": "https://localhost:8080/",
          "height": 564
        },
        "id": "G28koYV8ddqK",
        "outputId": "ef78f612-a93a-47f8-c184-5c93395da70b",
        "trusted": true
      },
      "outputs": [
        {
          "data": {
            "image/png": "[encoded data removed]",
            "text/plain": [
              "<Figure size 800x600 with 1 Axes>"
            ]
          },
          "metadata": {},
          "output_type": "display_data"
        }
      ],
      "source": [
        "fig = plt.figure(figsize=(8,6))\n",
        "plt.scatter(X_test, y_test)\n",
        "plt.title(\"Тестовий набір даних\")\n",
        "plt.xlabel(\"$X$\")\n",
        "plt.ylabel(\"$y$\")\n",
        "plt.show()"
      ]
    },
    {
      "cell_type": "code",
      "execution_count": 55,
      "metadata": {
        "id": "AX1vxfwdibB5",
        "trusted": true
      },
      "outputs": [],
      "source": [
        "n_samples, m_features = X_train.shape"
      ]
    },
    {
      "cell_type": "code",
      "execution_count": 56,
      "metadata": {
        "colab": {
          "base_uri": "https://localhost:8080/"
        },
        "id": "n5GvnD6RV4y7",
        "outputId": "71972ffa-f44d-411e-c3ce-c2cb3fd724d7",
        "trusted": true
      },
      "outputs": [
        {
          "data": {
            "text/plain": [
              "37"
            ]
          },
          "execution_count": 56,
          "metadata": {},
          "output_type": "execute_result"
        }
      ],
      "source": [
        "n_samples"
      ]
    },
    {
      "cell_type": "code",
      "execution_count": 57,
      "metadata": {
        "colab": {
          "base_uri": "https://localhost:8080/"
        },
        "id": "1IobjfGIV_Zl",
        "outputId": "000b51db-08f1-44ad-acc9-380c0ca1bf3a",
        "trusted": true
      },
      "outputs": [
        {
          "data": {
            "text/plain": [
              "1"
            ]
          },
          "execution_count": 57,
          "metadata": {},
          "output_type": "execute_result"
        }
      ],
      "source": [
        "m_features"
      ]
    },
    {
      "cell_type": "markdown",
      "metadata": {
        "id": "LKNT3Y2TWMMV"
      },
      "source": [
        "## Змінюємо форму $X$ та $y$ обох вибірок\n",
        "$X = \\text{X_train}$, 𝑋 — матриця форми (𝑚, 𝑛)."
      ]
    },
    {
      "cell_type": "code",
      "execution_count": 58,
      "metadata": {
        "id": "Prp2FmnXXFGO",
        "trusted": true
      },
      "outputs": [],
      "source": [
        "X_train = X_train.reshape((m_features, n_samples))"
      ]
    },
    {
      "cell_type": "code",
      "execution_count": 59,
      "metadata": {
        "colab": {
          "base_uri": "https://localhost:8080/"
        },
        "id": "AUGjA27pSjYe",
        "outputId": "57b25f7e-655d-46cd-bb1b-2c470080711f",
        "trusted": true
      },
      "outputs": [
        {
          "data": {
            "text/plain": [
              "(1, 37)"
            ]
          },
          "execution_count": 59,
          "metadata": {},
          "output_type": "execute_result"
        }
      ],
      "source": [
        "X_train.shape"
      ]
    },
    {
      "cell_type": "code",
      "execution_count": 60,
      "metadata": {
        "id": "iSTdZFc4e3Ge",
        "trusted": true
      },
      "outputs": [],
      "source": [
        "X_test = X_test.reshape((X_test.shape[1], X_test.shape[0]))"
      ]
    },
    {
      "cell_type": "code",
      "execution_count": 61,
      "metadata": {
        "colab": {
          "base_uri": "https://localhost:8080/"
        },
        "id": "4KWmQx2PfP9i",
        "outputId": "629bafb8-dd63-4225-9338-b46c3a6313ce",
        "trusted": true
      },
      "outputs": [
        {
          "data": {
            "text/plain": [
              "(1, 13)"
            ]
          },
          "execution_count": 61,
          "metadata": {},
          "output_type": "execute_result"
        }
      ],
      "source": [
        "X_test.shape"
      ]
    },
    {
      "cell_type": "code",
      "execution_count": 62,
      "metadata": {
        "id": "kzcvCcH4Snws",
        "trusted": true
      },
      "outputs": [],
      "source": [
        "y_train = y_train.reshape((m_features,n_samples))"
      ]
    },
    {
      "cell_type": "code",
      "execution_count": 63,
      "metadata": {
        "colab": {
          "base_uri": "https://localhost:8080/"
        },
        "id": "aZoaATzXS15a",
        "outputId": "7626f0a7-6f1e-44bb-a888-30e445b4d7d2",
        "trusted": true
      },
      "outputs": [
        {
          "data": {
            "text/plain": [
              "(1, 37)"
            ]
          },
          "execution_count": 63,
          "metadata": {},
          "output_type": "execute_result"
        }
      ],
      "source": [
        "y_train.shape"
      ]
    },
    {
      "cell_type": "code",
      "execution_count": 64,
      "metadata": {
        "id": "6KwrnTB3e0nM",
        "trusted": true
      },
      "outputs": [],
      "source": [
        "y_test = y_test.reshape((y_test.shape[1], y_test.shape[0]))"
      ]
    },
    {
      "cell_type": "code",
      "execution_count": 65,
      "metadata": {
        "colab": {
          "base_uri": "https://localhost:8080/"
        },
        "id": "8qQ-YAoMfayB",
        "outputId": "e8f776de-6f75-4300-ba13-72af4020e620",
        "trusted": true
      },
      "outputs": [
        {
          "data": {
            "text/plain": [
              "(1, 13)"
            ]
          },
          "execution_count": 65,
          "metadata": {},
          "output_type": "execute_result"
        }
      ],
      "source": [
        "y_test.shape"
      ]
    },
    {
      "cell_type": "markdown",
      "metadata": {
        "id": "Qpq48noEKJgY"
      },
      "source": [
        "### Крок 0: Ініціалізувати ваги та зсув"
      ]
    },
    {
      "cell_type": "code",
      "execution_count": 66,
      "metadata": {
        "id": "bfkqaTCL27hF",
        "tags": [
          "parameters_inititalization"
        ],
        "trusted": true
      },
      "outputs": [
        {
          "data": {
            "text/plain": [
              "(array([[-0.31048223]]), (1, 1), 0.0)"
            ]
          },
          "execution_count": 66,
          "metadata": {},
          "output_type": "execute_result"
        }
      ],
      "source": [
        "def parameters_initialization(m):\n",
        "    W = np.random.randn(1, m)\n",
        "    b = 0.0\n",
        "    return W, b\n",
        "\n",
        "W, b = parameters_initialization(m_features)\n",
        "W, W.shape, b"
      ]
    },
    {
      "cell_type": "code",
      "execution_count": 67,
      "metadata": {
        "id": "Cjoi0Pi0eIl9",
        "trusted": true
      },
      "outputs": [],
      "source": [
        "W, b = parameters_initialization(m_features)"
      ]
    },
    {
      "cell_type": "code",
      "execution_count": 68,
      "metadata": {
        "colab": {
          "base_uri": "https://localhost:8080/"
        },
        "id": "Z_nNfaRGdLGO",
        "outputId": "a1129741-38a6-4dc2-f75d-2dbe1b1ddceb",
        "trusted": true
      },
      "outputs": [
        {
          "data": {
            "text/plain": [
              "array([[0.31529775]])"
            ]
          },
          "execution_count": 68,
          "metadata": {},
          "output_type": "execute_result"
        }
      ],
      "source": [
        "W"
      ]
    },
    {
      "cell_type": "code",
      "execution_count": 69,
      "metadata": {
        "colab": {
          "base_uri": "https://localhost:8080/"
        },
        "id": "AVUfQgU3dRoj",
        "outputId": "4fb17e58-797f-49dd-8cc0-2c5a2ed8a683",
        "trusted": true
      },
      "outputs": [
        {
          "data": {
            "text/plain": [
              "(1, 1)"
            ]
          },
          "execution_count": 69,
          "metadata": {},
          "output_type": "execute_result"
        }
      ],
      "source": [
        "W.shape"
      ]
    },
    {
      "cell_type": "code",
      "execution_count": 70,
      "metadata": {
        "colab": {
          "base_uri": "https://localhost:8080/"
        },
        "id": "PGyt_i05dT_r",
        "outputId": "00ed991d-8be5-460a-8473-15dae8f16ec9",
        "trusted": true
      },
      "outputs": [
        {
          "data": {
            "text/plain": [
              "0.0"
            ]
          },
          "execution_count": 70,
          "metadata": {},
          "output_type": "execute_result"
        }
      ],
      "source": [
        "b"
      ]
    },
    {
      "cell_type": "markdown",
      "metadata": {
        "id": "SMLPcw7gNZ1d"
      },
      "source": [
        "\n",
        "\n",
        "### Крок 1: Обчислити лінійну комбінацію вхідних ознак та ваг, включаючи зсув\n",
        "\n"
      ]
    },
    {
      "cell_type": "code",
      "execution_count": 71,
      "metadata": {
        "id": "sHg5Sh8bdV3J",
        "scrolled": true,
        "tags": [
          "forwardPropagate"
        ],
        "trusted": true
      },
      "outputs": [],
      "source": [
        "def forwardPropagate(X, W, b):\n",
        "    if X.shape[0] != W.shape[1]:\n",
        "        X = X.T\n",
        "\n",
        "    z = np.dot(W, X) + b\n",
        "    y_hat = z\n",
        "    return z, y_hat"
      ]
    },
    {
      "cell_type": "code",
      "execution_count": 72,
      "metadata": {
        "id": "94IMy1_2dfuQ",
        "trusted": true
      },
      "outputs": [],
      "source": [
        "z, y_hat = forwardPropagate(X_train, W, b)"
      ]
    },
    {
      "cell_type": "code",
      "execution_count": 73,
      "metadata": {
        "colab": {
          "base_uri": "https://localhost:8080/"
        },
        "id": "JF67K5RJiEux",
        "outputId": "3d31806f-4d83-4825-ecd6-7ad592069116",
        "trusted": true
      },
      "outputs": [
        {
          "data": {
            "text/plain": [
              "array([[0.30327349, 0.43919033, 0.20007879, 0.07290844, 0.45369389,\n",
              "        0.11507846, 0.45683826, 0.53564786, 0.20365643, 0.38648852,\n",
              "        0.26158754, 0.03763261, 0.27170012, 0.21640651, 0.27349   ,\n",
              "        0.54629065, 0.18521475, 0.22814229, 0.45973546, 0.30459923,\n",
              "        0.15793602, 0.24726754, 0.14394176, 0.59538305, 0.19691052,\n",
              "        0.3351939 , 0.1430515 , 0.56336718, 0.62148956, 0.26680903,\n",
              "        0.32758497, 0.45556954, 0.11063909, 0.34765661, 0.3113156 ,\n",
              "        0.38530867, 0.25100491]])"
            ]
          },
          "execution_count": 73,
          "metadata": {},
          "output_type": "execute_result"
        }
      ],
      "source": [
        "z"
      ]
    },
    {
      "cell_type": "code",
      "execution_count": 74,
      "metadata": {
        "colab": {
          "base_uri": "https://localhost:8080/"
        },
        "id": "AqFrM7SwOatT",
        "outputId": "8094a196-15f3-4c2a-97b0-12e86535a6f2",
        "trusted": true
      },
      "outputs": [
        {
          "data": {
            "text/plain": [
              "(1, 37)"
            ]
          },
          "execution_count": 74,
          "metadata": {},
          "output_type": "execute_result"
        }
      ],
      "source": [
        "y_hat.shape"
      ]
    },
    {
      "cell_type": "markdown",
      "metadata": {
        "id": "I1L7RqCHOShJ"
      },
      "source": [
        "### Крок 2: Обчислити усереднену втрату на всьому навчальному наборі даних. Цільова функція\n",
        "\n"
      ]
    },
    {
      "cell_type": "code",
      "execution_count": 75,
      "metadata": {
        "id": "YM5DZaGIl-ei",
        "tags": [
          "cost"
        ],
        "trusted": true
      },
      "outputs": [],
      "source": [
        "def cost(n, y_hat, y_true):\n",
        "\n",
        "    J = (1 / n) * np.sum((y_hat - y_true) ** 2)\n",
        "    return J"
      ]
    },
    {
      "cell_type": "code",
      "execution_count": 76,
      "metadata": {
        "colab": {
          "base_uri": "https://localhost:8080/"
        },
        "id": "GVuroIbum_4L",
        "outputId": "c8c75187-a225-4f13-85d7-33fb16a9ba6a",
        "trusted": true
      },
      "outputs": [
        {
          "data": {
            "text/plain": [
              "48.02547900804167"
            ]
          },
          "execution_count": 76,
          "metadata": {},
          "output_type": "execute_result"
        }
      ],
      "source": [
        "J = cost(n_samples, y_hat, y_train)\n",
        "J"
      ]
    },
    {
      "cell_type": "markdown",
      "metadata": {
        "id": "bapG8TtdP4gK"
      },
      "source": [
        "### Крок 3: Розрахувати градієнти цільвої функції відносно ваг та зсуву"
      ]
    },
    {
      "cell_type": "code",
      "execution_count": 77,
      "metadata": {
        "id": "9K-Vn0mpiGng",
        "tags": [
          "backwardPropagate"
        ],
        "trusted": true
      },
      "outputs": [
        {
          "data": {
            "text/plain": [
              "(array([[-14.33691726]]), -13.479554785839303)"
            ]
          },
          "execution_count": 77,
          "metadata": {},
          "output_type": "execute_result"
        }
      ],
      "source": [
        "def backwardPropagate(n, X, y_hat, y_true):\n",
        "    \"\"\"\n",
        "    Ця функція обчислює градієнти цільової функції відносно ваг та зсуву\n",
        "\n",
        "    Параметри:\n",
        "    n -- загальна кількість навчальних прикладів\n",
        "    X -- вхідний вектор ознак форми (m, X_train.shape[1])\n",
        "    y_hat -- вихідне значення лінійної регресії\n",
        "    y_true -- істинне значення залежної змінної\n",
        "\n",
        "    Повертає:\n",
        "    dW -- градієнт цільової функції відносно ваг моделі\n",
        "    db -- градієнт цільової функції відносно зсуву моделі\n",
        "    \"\"\"\n",
        "    # Різниця між прогнозованими значеннями та істинними\n",
        "    diff = y_hat - y_true\n",
        "    \n",
        "    # Перевіримо, чи форма diff сумісна з очікуванням, і за потреби скоригуємо її\n",
        "    if diff.shape[0] != 1:\n",
        "        diff = diff.T  # Переконаємося, що форма diff є (1, n)\n",
        "    \n",
        "    # Транспонуємо X для правильного множення, якщо потрібно\n",
        "    if X.shape[0] != n:\n",
        "        X = X.T  # Переконаємося, що X має форму (n, m)\n",
        "    \n",
        "    # Обчислення градієнта для ваг\n",
        "    dW = (2 / n) * np.dot(diff, X)\n",
        "    \n",
        "    # Обчислення градієнта для зсуву\n",
        "    db = (2 / n) * np.sum(diff)\n",
        "    \n",
        "    return dW, db\n",
        "\n",
        "# Виклик функції та перевірка результату\n",
        "dW, db = backwardPropagate(n_samples, X_train, y_hat, y_train)\n",
        "dW, db"
      ]
    },
    {
      "cell_type": "code",
      "execution_count": 78,
      "metadata": {
        "id": "VirkpmD0o-1Q",
        "trusted": true
      },
      "outputs": [],
      "source": [
        "dW, db = backwardPropagate(n_samples, X_train, y_hat, y_train)"
      ]
    },
    {
      "cell_type": "code",
      "execution_count": 79,
      "metadata": {
        "colab": {
          "base_uri": "https://localhost:8080/"
        },
        "id": "z-nQYn1tqNRo",
        "outputId": "42a79fc7-126d-437f-84ae-ff6435fdc6b7",
        "trusted": true
      },
      "outputs": [
        {
          "data": {
            "text/plain": [
              "array([[-14.33691726]])"
            ]
          },
          "execution_count": 79,
          "metadata": {},
          "output_type": "execute_result"
        }
      ],
      "source": [
        "dW"
      ]
    },
    {
      "cell_type": "code",
      "execution_count": 80,
      "metadata": {
        "colab": {
          "base_uri": "https://localhost:8080/"
        },
        "id": "aLjgo0GdpMx0",
        "outputId": "7d4e4901-7275-4510-adf0-08987a588f7e",
        "trusted": true
      },
      "outputs": [
        {
          "data": {
            "text/plain": [
              "(1, 1)"
            ]
          },
          "execution_count": 80,
          "metadata": {},
          "output_type": "execute_result"
        }
      ],
      "source": [
        "dW.shape"
      ]
    },
    {
      "cell_type": "code",
      "execution_count": 81,
      "metadata": {
        "colab": {
          "base_uri": "https://localhost:8080/"
        },
        "id": "8ZBTCeXdqFJA",
        "outputId": "40e7d8c6-60c7-4af9-9440-d7d61f6b4c01",
        "trusted": true
      },
      "outputs": [
        {
          "data": {
            "text/plain": [
              "-13.479554785839303"
            ]
          },
          "execution_count": 81,
          "metadata": {},
          "output_type": "execute_result"
        }
      ],
      "source": [
        "db"
      ]
    },
    {
      "cell_type": "code",
      "execution_count": 82,
      "metadata": {
        "colab": {
          "base_uri": "https://localhost:8080/"
        },
        "id": "DAkVSaLesD_8",
        "outputId": "22f18cd2-0456-47ff-af4e-bf303961df1d",
        "trusted": true
      },
      "outputs": [
        {
          "data": {
            "text/plain": [
              "()"
            ]
          },
          "execution_count": 82,
          "metadata": {},
          "output_type": "execute_result"
        }
      ],
      "source": [
        "db.shape"
      ]
    },
    {
      "cell_type": "markdown",
      "metadata": {
        "id": "7wzrFBQPSfL5"
      },
      "source": [
        "### Крок 4: Оновити ваги та зсув"
      ]
    },
    {
      "cell_type": "code",
      "execution_count": 83,
      "metadata": {
        "id": "SwacLBbFsKHZ",
        "tags": [
          "update"
        ],
        "trusted": true
      },
      "outputs": [],
      "source": [
        "def update(alpha, dW, db, W, b):\n",
        "    W = W - alpha * dW\n",
        "    b = b - alpha * db\n",
        "    \n",
        "    return W, b"
      ]
    },
    {
      "cell_type": "code",
      "execution_count": 84,
      "metadata": {
        "id": "7f-dOng9tKRy",
        "trusted": true
      },
      "outputs": [],
      "source": [
        "W, b = update(0.0001, dW, db, W, b)"
      ]
    },
    {
      "cell_type": "code",
      "execution_count": 85,
      "metadata": {
        "colab": {
          "base_uri": "https://localhost:8080/"
        },
        "id": "X681Y8JatVAi",
        "outputId": "04e0b414-fd10-4bc2-8839-f90f105cd443",
        "trusted": true
      },
      "outputs": [
        {
          "data": {
            "text/plain": [
              "array([[0.31673144]])"
            ]
          },
          "execution_count": 85,
          "metadata": {},
          "output_type": "execute_result"
        }
      ],
      "source": [
        "W"
      ]
    },
    {
      "cell_type": "code",
      "execution_count": 86,
      "metadata": {
        "colab": {
          "base_uri": "https://localhost:8080/"
        },
        "id": "oWrWtkXhtWl4",
        "outputId": "caad0177-6ac6-4968-b033-e1d7e97cc679",
        "trusted": true
      },
      "outputs": [
        {
          "data": {
            "text/plain": [
              "0.0013479554785839304"
            ]
          },
          "execution_count": 86,
          "metadata": {},
          "output_type": "execute_result"
        }
      ],
      "source": [
        "b"
      ]
    },
    {
      "cell_type": "markdown",
      "metadata": {
        "id": "YdljmLW8ljv0"
      },
      "source": [
        "# Клас лінійної регресії"
      ]
    },
    {
      "cell_type": "code",
      "execution_count": 87,
      "metadata": {
        "id": "ULkK4_oGK5AP",
        "trusted": true
      },
      "outputs": [],
      "source": [
        "class LinearRegression:\n",
        "\n",
        "  def __init__(self):\n",
        "      pass\n",
        "  def train_model(self, X, y, alpha=0.01, n_iters=100):\n",
        "    \"\"\"\n",
        "    Trains a linear regression model using gradient descent\n",
        "    \"\"\"\n",
        "    # Step 0: Initialize the parameters\n",
        "    n_features, n_samples = X.shape\n",
        "    self.W, self.b = parameters_initialization(n_features)\n",
        "    costs = []\n",
        "    for i in range(n_iters):\n",
        "      # Step 1: Compute a linear combination of the input features and weights\n",
        "      z, y_hat = forwardPropagate(X_train, self.W, self.b)\n",
        "      # Step 2: Compute cost over training set\n",
        "      J = cost(n_samples, y_hat, y_train)\n",
        "      costs.append(J)\n",
        "      if i % 20 == 0:\n",
        "        print(f\"Усереднена втрата моделі на ітерації {i}: {J}\")\n",
        "      # Step 3: Compute the gradients\n",
        "      dW, db = backwardPropagate(n_samples, X_train, y_hat, y_train)\n",
        "      # Step 4: Update the parameters\n",
        "      self.W, self.b = update(alpha, dW, db, self.W, self.b)\n",
        "    return self.W, self.b, costs\n",
        "  def predict(self, X):\n",
        "    return np.dot(self.W, X) + self.b\n",
        "\n",
        "  def evaluate(self, X, y):\n",
        "      return 1 / X.shape[1] * np.sum(((np.dot(self.W, X) + self.b) - y)**2)"
      ]
    },
    {
      "cell_type": "code",
      "execution_count": 88,
      "metadata": {
        "colab": {
          "base_uri": "https://localhost:8080/",
          "height": 911
        },
        "id": "lrAKvTbRLMJ8",
        "outputId": "b2865a0f-1dc2-44fb-ed90-866dc9765e53",
        "trusted": true
      },
      "outputs": [
        {
          "name": "stdout",
          "output_type": "stream",
          "text": [
            "Усереднена втрата моделі на ітерації 0: 64.03950254075096\n",
            "Усереднена втрата моделі на ітерації 20: 1.9769687277876697\n",
            "Усереднена втрата моделі на ітерації 40: 1.1901824704614978\n",
            "Усереднена втрата моделі на ітерації 60: 1.172702946525409\n",
            "Усереднена втрата моделі на ітерації 80: 1.1663597324661947\n",
            "Усереднена втрата моделі на ітерації 100: 1.1613616975657683\n",
            "Усереднена втрата моделі на ітерації 120: 1.157348844638629\n",
            "Усереднена втрата моделі на ітерації 140: 1.1541260266607751\n",
            "Усереднена втрата моделі на ітерації 160: 1.1515376926580845\n",
            "Усереднена втрата моделі на ітерації 180: 1.1494589300851001\n",
            "Усереднена втрата моделі на ітерації 200: 1.147789418408787\n",
            "Усереднена втрата моделі на ітерації 220: 1.1464485874386603\n",
            "Усереднена втрата моделі на ітерації 240: 1.1453717290279306\n",
            "Усереднена втрата моделі на ітерації 260: 1.1445068742754703\n",
            "Усереднена втрата моделі на ітерації 280: 1.143812285520439\n",
            "Усереднена втрата моделі на ітерації 300: 1.143254442093849\n",
            "Усереднена втрата моделі на ітерації 320: 1.1428064226199717\n",
            "Усереднена втрата моделі на ітерації 340: 1.1424466057978933\n",
            "Усереднена втрата моделі на ітерації 360: 1.1421576269632672\n",
            "Усереднена втрата моделі на ітерації 380: 1.1419255400742239\n"
          ]
        },
        {
          "data": {
            "image/png": "[encoded data removed]",
            "text/plain": [
              "<Figure size 800x600 with 1 Axes>"
            ]
          },
          "metadata": {},
          "output_type": "display_data"
        }
      ],
      "source": [
        "regressor = LinearRegression()\n",
        "w_trained, b_trained, costs = regressor.train_model(X_train, y_train, alpha=0.025, n_iters=400)\n",
        "\n",
        "fig = plt.figure(figsize=(8,6))\n",
        "plt.plot(np.arange(400), costs)\n",
        "plt.title(\"Зміна втрат моделі у ході навчання\")\n",
        "plt.xlabel(\"Кількість ітерацій\")\n",
        "plt.ylabel(\"Втрати\")\n",
        "plt.show()"
      ]
    },
    {
      "cell_type": "markdown",
      "metadata": {
        "id": "pFEDdRYLjyZj"
      },
      "source": [
        "# Вивчені коефіцієнти: $ W$ та $b$\n",
        "\n",
        "На початку ми згенерували вибірку за правилом: `y = 3 * X + 4 + np.random.randn(100, 1)`"
      ]
    },
    {
      "cell_type": "code",
      "execution_count": 89,
      "metadata": {
        "colab": {
          "base_uri": "https://localhost:8080/"
        },
        "id": "o_xeV0Mhjs-i",
        "outputId": "d86d3d71-a21e-4f1f-f3bd-170f7ebd94af",
        "trusted": true
      },
      "outputs": [
        {
          "data": {
            "text/plain": [
              "array([[2.9087029]])"
            ]
          },
          "execution_count": 89,
          "metadata": {},
          "output_type": "execute_result"
        }
      ],
      "source": [
        "w_trained"
      ]
    },
    {
      "cell_type": "code",
      "execution_count": 90,
      "metadata": {
        "colab": {
          "base_uri": "https://localhost:8080/"
        },
        "id": "VElU2w6ejtUB",
        "outputId": "d9899d73-53b2-4049-dcf3-cf3294fb4622",
        "trusted": true
      },
      "outputs": [
        {
          "data": {
            "text/plain": [
              "4.196081151308348"
            ]
          },
          "execution_count": 90,
          "metadata": {},
          "output_type": "execute_result"
        }
      ],
      "source": [
        "b_trained"
      ]
    },
    {
      "cell_type": "code",
      "execution_count": 91,
      "metadata": {
        "colab": {
          "base_uri": "https://localhost:8080/",
          "height": 542
        },
        "id": "Q2iJAzmijnzr",
        "outputId": "c8a748eb-b70d-459b-c402-937a7e1aae09",
        "trusted": true
      },
      "outputs": [
        {
          "data": {
            "image/png": "[encoded data removed]",
            "text/plain": [
              "<Figure size 800x600 with 1 Axes>"
            ]
          },
          "metadata": {},
          "output_type": "display_data"
        }
      ],
      "source": [
        "# Plot the trained model\n",
        "\n",
        "fig = plt.figure(figsize=(8,6))\n",
        "\n",
        "plt.scatter(X_train, y_train)\n",
        "x = np.linspace(0, 2, 100)\n",
        "x = x.reshape((x.shape[0], 1))\n",
        "y_trained = w_trained * x + b_trained\n",
        "plt.plot(x, y_trained, color='red')\n",
        "plt.xlabel(\"$X$\")\n",
        "plt.ylabel(\"$y$\")\n",
        "plt.legend([\"Навчальний набір даних\" , \"Прогноз моделі\"])\n",
        "plt.show()"
      ]
    },
    {
      "cell_type": "markdown",
      "metadata": {
        "id": "gIIYcY-UktkQ"
      },
      "source": [
        "# Тестування моделі"
      ]
    },
    {
      "cell_type": "code",
      "execution_count": 92,
      "metadata": {
        "id": "bILRojcaeN5J",
        "trusted": true
      },
      "outputs": [],
      "source": [
        "y_hat_test = regressor.predict(X_test)"
      ]
    },
    {
      "cell_type": "code",
      "execution_count": 93,
      "metadata": {
        "colab": {
          "base_uri": "https://localhost:8080/",
          "height": 542
        },
        "id": "8fPLGyW4bYIC",
        "outputId": "9d59a61a-163d-4e2e-db0b-327c235c9643",
        "trusted": true
      },
      "outputs": [
        {
          "data": {
            "image/png": "[encoded data removed]",
            "text/plain": [
              "<Figure size 800x600 with 1 Axes>"
            ]
          },
          "metadata": {},
          "output_type": "display_data"
        }
      ],
      "source": [
        "# Plot the test predictions\n",
        "\n",
        "fig = plt.figure(figsize=(8,6))\n",
        "plt.scatter(X_test, y_test)\n",
        "plt.scatter(X_test, y_hat_test)\n",
        "plt.xlabel(\"$X$\")\n",
        "plt.ylabel(\"$y$\")\n",
        "plt.legend([\"Тестовий набір даних\" , \"Прогноз моделі\"])\n",
        "plt.show()"
      ]
    },
    {
      "cell_type": "code",
      "execution_count": 94,
      "metadata": {
        "colab": {
          "base_uri": "https://localhost:8080/"
        },
        "id": "oGxu6kf3jVmr",
        "outputId": "96cff8ce-2705-4b98-8b76-5ac68ecfbeaa",
        "trusted": true
      },
      "outputs": [
        {
          "name": "stdout",
          "output_type": "stream",
          "text": [
            "Усереднена втрата моделі на тестовій вибірці 1.4800869039890743\n"
          ]
        }
      ],
      "source": [
        "cost_test = regressor.evaluate(X_test, y_test)\n",
        "print(f\"Усереднена втрата моделі на тестовій вибірці {cost_test}\")"
      ]
    },
    {
      "cell_type": "markdown",
      "metadata": {
        "id": "SwXQUYwaXwic"
      },
      "source": [
        "\n",
        "\n",
        "Завдання завершено."
      ]
    }
  ],
  "metadata": {
    "celltoolbar": "Tags",
    "colab": {
      "provenance": []
    },
    "kernelspec": {
      "display_name": "Python 3",
      "language": "python",
      "name": "python3"
    },
    "language_info": {
      "codemirror_mode": {
        "name": "ipython",
        "version": 3
      },
      "file_extension": ".py",
      "mimetype": "text/x-python",
      "name": "python",
      "nbconvert_exporter": "python",
      "pygments_lexer": "ipython3",
      "version": "3.11.2"
    }
  },
  "nbformat": 4,
  "nbformat_minor": 4
}
